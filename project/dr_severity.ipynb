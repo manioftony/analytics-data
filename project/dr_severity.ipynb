{
 "cells": [
  {
   "cell_type": "code",
   "execution_count": 21,
   "metadata": {
    "collapsed": true
   },
   "outputs": [],
   "source": [
    "import pandas as pd\n"
   ]
  },
  {
   "cell_type": "code",
   "execution_count": 22,
   "metadata": {
    "collapsed": true
   },
   "outputs": [],
   "source": [
    "obj = pd.read_csv(\"/home/mani/Downloads/dr_severity.csv\")\n"
   ]
  },
  {
   "cell_type": "code",
   "execution_count": 23,
   "metadata": {
    "collapsed": false
   },
   "outputs": [],
   "source": [
    "#obj['num']=[i[:i.index('_')] for i in obj.image]\n",
    "#obj.image[0]\n",
    "obj['num']=[i[:i.index('(')] for i in obj.image]\n",
    "mani = obj.groupby(['num'])['level'].max()\n",
    "mani.to_csv(\"/home/mani/Desktop/dr_severity.csv\")"
   ]
  },
  {
   "cell_type": "code",
   "execution_count": 19,
   "metadata": {
    "collapsed": false
   },
   "outputs": [
    {
     "data": {
      "text/plain": [
       "num\n",
       "AmodData_.CHALAIYA1951010120160915                                                1\n",
       "AmodData_.CHRISTA1971122120160923                                                 1\n",
       "AmodData_.DHANANJAY1968100520160910                                               1\n",
       "AmodData_.DONALD1960080320161226                                                  1\n",
       "AmodData_.GAJENDRA1973010120170120                                                1\n",
       "AmodData_.GOPINATHAN1958020820161001                                              1\n",
       "AmodData_.LAXMAMMA1968010120161114                                                1\n",
       "AmodData_.LEO1980053120160829                                                     1\n",
       "AmodData_.NATARAJ1943032220161006                                                 1\n",
       "AmodData_.RAGHUNATH1957010120160930                                               1\n",
       "AmodData_.SANTOSHHA1952050920161228                                               1\n",
       "AmodData_.SATYAVATHY1952101520160924                                              1\n",
       "AmodData_.SHANKARAPPA1966100620161227                                             1\n",
       "AmodData_.SUMITHRAMMA1961082520161228                                             1\n",
       "AmodData_.SUSHEELAMMA1957060120161225                                             1\n",
       "AmodData_.THANKAMMA1959102520161219                                               1\n",
       "AmodData_.THIPANNA1946010120170203                                                1\n",
       "AmodData_.USHA1985090520161008                                                    0\n",
       "AmodData_.VIJAY1979052920160913                                                   1\n",
       "AmodData_.VINEELA1987090620160916                                                 1\n",
       "AmodData_.YOLANDA1951042720161229                                                 1\n",
       "AmodData_0002nain malnain20080109                                                 1\n",
       "AmodData_0009pillayrajendran1955112720030811                                      1\n",
       "AmodData_0012lalith shahajilalith1956080120081221                                 1\n",
       "AmodData_0015rajalakshmi1945021220120925                                          1\n",
       "AmodData_0021shahuday1954121720090410                                             1\n",
       "AmodData_0038mundakusum devi1946010120110310                                      1\n",
       "AmodData_0040menonmrs nanikutty1930040220110408                                   1\n",
       "AmodData_0041bhandariprradeep1935033120110419                                     1\n",
       "AmodData_0043parmarsavita1939010120110505                                         1\n",
       "                                                                                 ..\n",
       "AmodData_WD-3320SURINDER KAURSURINDER KAUR1955090320170123                        1\n",
       "AmodData_WD-3433RAGHAV ELLURRAGHAV ELLUR1982070620170127                          1\n",
       "AmodData_WDVIJAYA KUMARVIJAY KUMAR1956101420170126                                1\n",
       "AmodData_WD_3334REKHA TREKHA1976061320170123                                      1\n",
       "AmodData_WD__3253LAKSHMI DEVILAKSHMI1960010120170121                              1\n",
       "AmodData_WFD 3213RAKSHAY1998052520170119                                          1\n",
       "AmodData_WFD--3324.MRS. kUMUDINI1955072120170123                                  1\n",
       "AmodData_WFD-1532MRSJAYANTHI1961042520161031                                      1\n",
       "AmodData_WFD-3231MajhiHiralal1940082320170120                                     1\n",
       "AmodData_WFD-3231MajhiHiralal1940082320170207                                     1\n",
       "AmodData_WFD-3368REDDYRAJAPPA1955011220170125                                     1\n",
       "AmodData_WFD-3384JAYARAM SJAYARAM1939062720170126                                 1\n",
       "AmodData_WFD__3101ChethnaChethna1978111220170123                                  1\n",
       "AmodData_Y.VGANGAIAH1946090820161003                                              1\n",
       "AmodData_YUDDONSUCHAT1961120920170212                                             0\n",
       "AmodData_dvijaya1973010120081201                                                  1\n",
       "AmodData_kumarsuresh1944112220091014                                              0\n",
       "AmodData_oo30rameshlalrameshlal1949070720100517                                   1\n",
       "AmodData_oo52mpavathy1946082620120516                                             1\n",
       "AmodData_oo52mpavathy1946082620120725                                             1\n",
       "AmodData_oo61lokaresheela1940071820121017                                         1\n",
       "AmodData_oo81galadagautam1988070120150114                                         1\n",
       "AmodData_payelsarkar1994010120161018                                              1\n",
       "AmodData_wd-2809syerd ghhouse peersyerd ghhouse peer1953050520170123              1\n",
       "AmodData_wd-3277pramilapramila1959041120170121                                    1\n",
       "AmodData_wd-3285sebastinj1968010720170121                                         1\n",
       "AmodData_wd-3317sharnappa linga shettarsharnappa linga shettar1982121220170123    1\n",
       "AmodData_wdd-3287akhtarhussain1951010120170121                                    1\n",
       "AmodData_wfd 284singhGurupal1979010120160826                                      1\n",
       "AmodData_wffd-manoharanmanoharan1956010120170121                                  1\n",
       "Name: level, dtype: int64"
      ]
     },
     "execution_count": 19,
     "metadata": {},
     "output_type": "execute_result"
    }
   ],
   "source": [
    "    "
   ]
  },
  {
   "cell_type": "code",
   "execution_count": null,
   "metadata": {
    "collapsed": true
   },
   "outputs": [],
   "source": []
  }
 ],
 "metadata": {
  "anaconda-cloud": {},
  "kernelspec": {
   "display_name": "Python [conda root]",
   "language": "python",
   "name": "conda-root-py"
  },
  "language_info": {
   "codemirror_mode": {
    "name": "ipython",
    "version": 2
   },
   "file_extension": ".py",
   "mimetype": "text/x-python",
   "name": "python",
   "nbconvert_exporter": "python",
   "pygments_lexer": "ipython2",
   "version": "2.7.12"
  }
 },
 "nbformat": 4,
 "nbformat_minor": 1
}
