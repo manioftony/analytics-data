{
 "cells": [
  {
   "cell_type": "code",
   "execution_count": 5,
   "metadata": {
    "collapsed": true
   },
   "outputs": [],
   "source": [
    "import pandas as pd"
   ]
  },
  {
   "cell_type": "code",
   "execution_count": 54,
   "metadata": {
    "collapsed": false
   },
   "outputs": [
    {
     "name": "stdout",
     "output_type": "stream",
     "text": [
      "/home/mani/Documents/prediction/DR0_Normal_1/results/goodbad\n"
     ]
    }
   ],
   "source": [
    "cd /home/mani/Documents/prediction/DR0_Normal_1/results/goodbad"
   ]
  },
  {
   "cell_type": "code",
   "execution_count": 55,
   "metadata": {
    "collapsed": false
   },
   "outputs": [],
   "source": [
    "daily_engagement = pd.read_csv(\"pred_gb_binary.csv\")"
   ]
  },
  {
   "cell_type": "code",
   "execution_count": 56,
   "metadata": {
    "collapsed": false
   },
   "outputs": [
    {
     "data": {
      "text/plain": [
       "0    6039\n",
       "1    3259\n",
       "Name: level, dtype: int64"
      ]
     },
     "execution_count": 56,
     "metadata": {},
     "output_type": "execute_result"
    }
   ],
   "source": [
    "daily_engagement['level'].value_counts()"
   ]
  },
  {
   "cell_type": "code",
   "execution_count": 57,
   "metadata": {
    "collapsed": false
   },
   "outputs": [
    {
     "name": "stdout",
     "output_type": "stream",
     "text": [
      "--Total good  images  = 26474\n",
      "--Total bad images  = 54622\n"
     ]
    }
   ],
   "source": [
    "import os\n",
    "path = os.listdir(\"/home/mani/Documents/prediction\")\n",
    "totalgoodimage=0\n",
    "totalbadimage=0\n",
    "for i in path:\n",
    "    a=[] \n",
    "    obj = pd.read_csv(\"/home/mani/Documents/prediction/%s/results/goodbad/pred_gb_binary.csv\"%(i))\n",
    "    goodimage = obj[obj.level==1].shape[0]\n",
    "    badimage = obj[obj.level==0].shape[0]\n",
    "    #print '--path  =', i ,'--good image count             =',goodimage\n",
    "    #print '--path  =', i ,'--bad image count              =',badimage\n",
    "    totalbadimage = totalbadimage + badimage\n",
    "    totalgoodimage = totalgoodimage + goodimage\n",
    "print \"--Total good  images  =\",totalgoodimage\n",
    "print \"--Total bad images  =\",totalbadimage"
   ]
  },
  {
   "cell_type": "code",
   "execution_count": 58,
   "metadata": {
    "collapsed": false
   },
   "outputs": [
    {
     "data": {
      "text/plain": [
       "u'/home/mani/Documents/prediction/DR0_Normal_1/results/goodbad'"
      ]
     },
     "execution_count": 58,
     "metadata": {},
     "output_type": "execute_result"
    }
   ],
   "source": [
    "pwd"
   ]
  },
  {
   "cell_type": "code",
   "execution_count": 59,
   "metadata": {
    "collapsed": false
   },
   "outputs": [
    {
     "name": "stdout",
     "output_type": "stream",
     "text": [
      "0    20358\n",
      "1     6116\n",
      "Name: mild, dtype: int64\n",
      "0    24667\n",
      "1     1807\n",
      "Name: moderate, dtype: int64\n",
      "0    26060\n",
      "1      414\n",
      "Name: proliferate, dtype: int64\n",
      "0    26300\n",
      "1      174\n",
      "Name: severe, dtype: int64\n"
     ]
    }
   ],
   "source": [
    "mani=pd.read_csv(\"/home/mani/manikandan.csv\")\n",
    "# print mani.count.__doc__\n",
    "#print mani['no_dr'].value_counts()\n",
    "print mani['mild'].value_counts()\n",
    "print mani['moderate'].value_counts()\n",
    "print mani['proliferate'].value_counts()\n",
    "print mani['severe'].value_counts()\n",
    "#mani.head(3)"
   ]
  },
  {
   "cell_type": "code",
   "execution_count": 61,
   "metadata": {
    "collapsed": false
   },
   "outputs": [
    {
     "name": "stderr",
     "output_type": "stream",
     "text": [
      "/home/mani/anaconda2/lib/python2.7/site-packages/ipykernel/__main__.py:26: FutureWarning: sort(columns=....) is deprecated, use sort_values(by=.....)\n"
     ]
    },
    {
     "data": {
      "text/html": [
       "<div>\n",
       "<table border=\"1\" class=\"dataframe\">\n",
       "  <thead>\n",
       "    <tr style=\"text-align: right;\">\n",
       "      <th></th>\n",
       "      <th>image</th>\n",
       "      <th>no_dr</th>\n",
       "      <th>mild</th>\n",
       "      <th>moderate</th>\n",
       "      <th>severe</th>\n",
       "      <th>proliferate</th>\n",
       "    </tr>\n",
       "  </thead>\n",
       "  <tbody>\n",
       "    <tr>\n",
       "      <th>0</th>\n",
       "      <td>AEI-3CODB0210378_000022_140805124124_images_00...</td>\n",
       "      <td>0</td>\n",
       "      <td>1</td>\n",
       "      <td>0</td>\n",
       "      <td>0</td>\n",
       "      <td>0</td>\n",
       "    </tr>\n",
       "  </tbody>\n",
       "</table>\n",
       "</div>"
      ],
      "text/plain": [
       "                                               image  no_dr  mild  moderate  \\\n",
       "0  AEI-3CODB0210378_000022_140805124124_images_00...      0     1         0   \n",
       "\n",
       "   severe  proliferate  \n",
       "0       0            0  "
      ]
     },
     "execution_count": 61,
     "metadata": {},
     "output_type": "execute_result"
    }
   ],
   "source": [
    "#import pandas as pd\n",
    "old=pd.read_csv(\"/home/mani/Documents/result/csv/sushruta/totalimage.csv\")\n",
    "\n",
    "new=pd.read_csv(\"/home/mani/Documents/result/csv/sushrutanew/eyepacs/dr_onehot.csv\")\n",
    "#len(mani.sort(\"image\")['image'])\n",
    "#len(mani1.sort(\"image\")['image'])\n",
    "#mani.groupby('no_dr').aggregate(sum)\n",
    "# print old['no_dr'].head(2)\n",
    "\n",
    "# print 'sushruta',old[old.mild==1].shape[0]\n",
    "# print 'sushruta',old[old.moderate==1].shape[0]\n",
    "# print 'sushruta',old[old.severe==1].shape[0]\n",
    "# print 'sushruta',old[old.proliferate==1].shape[0]\n",
    "# print \"           \"\n",
    "# print \"           \"\n",
    "# print 'sushruta-new',new[new.mild==1].shape[0]\n",
    "# print 'sushruta-new',new[new.moderate==1].shape[0]\n",
    "# print 'sushruta-new',new[new.severe==1].shape[0]\n",
    "# print 'sushruta-new',new[new.proliferate==1].shape[0]\n",
    "\n",
    "\n",
    "# obj = old.sort(\"image\")['image'].tolist()\n",
    "# obj1 = new.sort(\"image\")['image'].tolist()\n",
    "\n",
    "\n",
    "obj = new.sort(\"image\")['image']\n",
    "new.head(1)\n",
    "\n",
    "\n",
    "# print obj\n",
    "# print obj1\n",
    "# print\"two list verified\", obj==obj1\n",
    "# print \"its done\"\n"
   ]
  },
  {
   "cell_type": "code",
   "execution_count": 22,
   "metadata": {
    "collapsed": false
   },
   "outputs": [
    {
     "name": "stdout",
     "output_type": "stream",
     "text": [
      "Its Done\n",
      "mild        = 6116\n",
      "moderate    = 1807\n",
      "proliferate = 414\n",
      "severe      = 174\n"
     ]
    }
   ],
   "source": [
    "### using python only get report\n",
    "\n",
    "import unicodecsv\n",
    "import commands\n",
    "\n",
    "a=[]\n",
    "b=[]\n",
    "c=[]\n",
    "d=[]\n",
    "def read_csv(filename):\n",
    "    with open(filename, \"rb\") as f:\n",
    "        reader = unicodecsv.DictReader(f)\n",
    "        return list(reader)\n",
    "# obj = read_csv(\"/home/mani/manikandan.csv\")\n",
    "obj = read_csv(\"/home/mani/Documents/result/results/eyepacs/dr_onehot.csv\")\n",
    "for i in obj:\n",
    "    if i['mild'] == '1':\n",
    "        a.append(str(\"%s.jpg\"%i['image']))\n",
    "    if i['moderate'] == '1':\n",
    "        b.append(str(\"%s.jpg\"%i['image']))\n",
    "    if i['proliferate'] == '1':\n",
    "        c.append(str(\"%s.jpg\"%i['image']))\n",
    "    if i['severe'] == '1':\n",
    "        d.append(str(\"%s.jpg\"%i['image']))\n",
    "\n",
    "# for i in a:\n",
    "#     commands.getoutput(\"cp /home/mani/Documents/predictionimg1/%s /home/mani/Documents/result/sushruta1/mild/\"%(i))\n",
    "# for i in b:\n",
    "#     commands.getoutput(\"cp /home/mani/Documents/predictionimg1/%s /home/mani/Documents/result/sushruta1/moderate/\"%(i))\n",
    "# for i in c:\n",
    "#     commands.getoutput(\"cp /home/mani/Documents/predictionimg1/%s /home/mani/Documents/result/sushruta1/proliferative/\"%(i))\n",
    "# for i in d:\n",
    "#     commands.getoutput(\"cp /home/mani/Documents/predictionimg1/%s /home/mani/Documents/result/sushruta1/severe/\"%(i))\n",
    "    \n",
    "# print \"Its Done\"        \n",
    "        \n",
    "        \n",
    "        \n",
    "print 'mild        =', len(a)\n",
    "print 'moderate    =',len(b)\n",
    "print 'proliferate =',len(c)\n",
    "print 'severe      =',len(d)\n"
   ]
  },
  {
   "cell_type": "code",
   "execution_count": 62,
   "metadata": {
    "collapsed": false
   },
   "outputs": [
    {
     "name": "stdout",
     "output_type": "stream",
     "text": [
      "mild      = 6116\n",
      "moderate    = 1807\n",
      "proliferate = 414\n",
      "severe      = 174\n"
     ]
    }
   ],
   "source": [
    "# using python and pandan and numpy get report\n",
    "\n",
    "import commands\n",
    "import pandas as pd\n",
    "\n",
    "\n",
    "old = pd.read_csv(\"/home/mani/Documents/result/csv/sushruta/totalimage.csv\")\n",
    "\n",
    "# filter predcition level 0 or 1 in csv\n",
    "# each variable contain Convert Series\n",
    "\n",
    "mild = old[old.mild == 1]['image']\n",
    "moderate = old[old.moderate == 1]['image']\n",
    "proliferate = old[old.proliferate == 1]['image']\n",
    "severe = old[old.severe == 1]['image']\n",
    "\n",
    "\n",
    "print 'mild      =', len(mild)\n",
    "print 'moderate    =', len(moderate)\n",
    "print 'proliferate =', len(proliferate)\n",
    "print 'severe      =', len(severe)\n",
    "\n",
    "\n",
    "# man //its contain Series\n",
    "# Convert Series to a nested list using tolist\n",
    "# type(man)//man.tolist.__doc__\n",
    "\n",
    "mildlist = mild.tolist()\n",
    "moderatelist = moderate.tolist()\n",
    "proliferatelist = proliferate.tolist()\n",
    "severelist = severe.tolist()\n",
    "\n",
    "# copy image one directory to another directory using import commands\n",
    "# import commands only linux maybe windows\n",
    "\n",
    "# for i in a:\n",
    "#     commands.getoutput(\"cp /home/mani/Documents/predictionimg1/%s /home/mani/Documents/result/sushruta1/mild/\"%(i))\n",
    "# for i in b:\n",
    "#     commands.getoutput(\"cp /home/mani/Documents/predictionimg1/%s /home/mani/Documents/result/sushruta1/moderate/\"%(i))\n",
    "# for i in c:\n",
    "#     commands.getoutput(\"cp /home/mani/Documents/predictionimg1/%s /home/mani/Documents/result/sushruta1/proliferative/\"%(i))\n",
    "# for i in d:\n",
    "#     commands.getoutput(\"cp /home/mani/Documents/predictionimg1/%s /home/mani/Documents/result/sushruta1/severe/\"%(i))\n",
    "\n",
    "# print \"Its Done\"\n",
    "\n",
    "\n",
    "\n",
    "\n",
    "\n",
    "\n",
    "\n"
   ]
  },
  {
   "cell_type": "code",
   "execution_count": 6,
   "metadata": {
    "collapsed": false
   },
   "outputs": [
    {
     "name": "stdout",
     "output_type": "stream",
     "text": [
      "0--good---= 12265\n",
      "1--bad---= 14209\n",
      "Its Done\n"
     ]
    }
   ],
   "source": [
    "import commands\n",
    "import pandas as pd\n",
    "\n",
    "new = pd.read_csv(\"/home/mani/Documents/result/csv/sushrutanew/eyepacs/dr_onehot.csv\")\n",
    "\n",
    "no_dr_1 = new[new.no_dr == 1]['image']\n",
    "no_dr_0 = new[new.no_dr == 0]['image']\n",
    "\n",
    "\n",
    "\n",
    "print \"0--good---=\",len(no_dr_0)\n",
    "print \"1--bad---=\",len(no_dr_1)\n",
    "\n",
    "\n",
    "# good = no_dr_0.tolist()\n",
    "# bad = no_dr_1.tolist()\n",
    "\n",
    "\n",
    "\n",
    "\n",
    "# for i in good:\n",
    "#     commands.getoutput(\"cp /home/mani/Documents/predictionimg1/%s.jpg /home/mani/Documents/goodandbadimage/0/\"%(i))\n",
    "\n",
    "# for j in bad:    \n",
    "#     commands.getoutput(\"cp /home/mani/Documents/predictionimg1/%s.jpg /home/mani/Documents/goodandbadimage/1/\"%(j))\n",
    "    \n",
    "# print \"Its Done\"\n",
    "\n",
    "\n",
    "\n",
    "\n",
    "\n",
    "\n",
    "\n"
   ]
  },
  {
   "cell_type": "code",
   "execution_count": 5,
   "metadata": {
    "collapsed": false
   },
   "outputs": [],
   "source": [
    "\n",
    "import unicodecsv\n",
    "import commands\n",
    "\n",
    "a=[]\n",
    "b=[]\n",
    "c=[]\n",
    "d=[]\n",
    "e=[]\n",
    "def read_csv(filename):\n",
    "    with open(filename, \"rb\") as f:\n",
    "        reader = unicodecsv.DictReader(f)\n",
    "        return list(reader)\n",
    "# obj = read_csv(\"/home/mani/manikandan.csv\")\n",
    "obj = read_csv(\"/home/mani/Downloads/testingpy.csv\")\n",
    "for i in obj:\n",
    "    if i['Image'] == '10':\n",
    "        a.append(i['Level'])\n",
    "    if i['Image'] == '11':\n",
    "        b.append(i['Level'])\n",
    "    if i['Image'] == '12':\n",
    "        c.append(i['Level'])\n",
    "    if i['Image'] == '13':\n",
    "        d.append(i['Level'])\n",
    "    if i['Image'] == '14':\n",
    "        e.append(i['Level'])\n",
    "final_values={10:a,11:b,12:c,13:d,14:e}"
   ]
  },
  {
   "cell_type": "code",
   "execution_count": 6,
   "metadata": {
    "collapsed": false
   },
   "outputs": [
    {
     "data": {
      "text/plain": [
       "{10: [u'2', u'1', u'2', u'1', u'2', u'2', u'1'],\n",
       " 11: [u'2', u'2', u'3'],\n",
       " 12: [u'2', u'3', u'2', u'2', u'2', u'1'],\n",
       " 13: [u'1', u'1', u'3', u'3'],\n",
       " 14: [u'3', u'4', u'2', u'2', u'2', u'2', u'2', u'1']}"
      ]
     },
     "execution_count": 6,
     "metadata": {},
     "output_type": "execute_result"
    }
   ],
   "source": [
    "final_values"
   ]
  },
  {
   "cell_type": "code",
   "execution_count": 16,
   "metadata": {
    "collapsed": false
   },
   "outputs": [
    {
     "name": "stdout",
     "output_type": "stream",
     "text": [
      "{10: u'2'}\n",
      "{11: u'3'}\n",
      "{12: u'3'}\n",
      "{13: u'3'}\n",
      "{14: u'4'}\n"
     ]
    }
   ],
   "source": [
    "for i in final_values.keys():\n",
    "    print  {i:max(final_values[i])}"
   ]
  },
  {
   "cell_type": "code",
   "execution_count": null,
   "metadata": {
    "collapsed": true
   },
   "outputs": [],
   "source": []
  }
 ],
 "metadata": {
  "anaconda-cloud": {},
  "kernelspec": {
   "display_name": "Python [conda root]",
   "language": "python",
   "name": "conda-root-py"
  },
  "language_info": {
   "codemirror_mode": {
    "name": "ipython",
    "version": 2
   },
   "file_extension": ".py",
   "mimetype": "text/x-python",
   "name": "python",
   "nbconvert_exporter": "python",
   "pygments_lexer": "ipython2",
   "version": "2.7.12"
  }
 },
 "nbformat": 4,
 "nbformat_minor": 1
}
